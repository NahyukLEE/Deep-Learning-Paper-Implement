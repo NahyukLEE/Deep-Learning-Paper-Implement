{
  "nbformat": 4,
  "nbformat_minor": 5,
  "metadata": {
    "kernelspec": {
      "display_name": "Python 3",
      "language": "python",
      "name": "python3"
    },
    "language_info": {
      "codemirror_mode": {
        "name": "ipython",
        "version": 3
      },
      "file_extension": ".py",
      "mimetype": "text/x-python",
      "name": "python",
      "nbconvert_exporter": "python",
      "pygments_lexer": "ipython3",
      "version": "3.6.13"
    },
    "colab": {
      "name": "AlexNet.ipynb의 사본",
      "provenance": [],
      "collapsed_sections": []
    },
    "accelerator": "GPU"
  },
  "cells": [
    {
      "cell_type": "code",
      "metadata": {
        "id": "tamil-place"
      },
      "source": [
        "# Module Import\n",
        "import numpy as np\n",
        "import matplotlib.pyplot as plt\n",
        "import torch\n",
        "import torch.nn as nn\n",
        "import torch.nn.functional as F\n",
        "from torchvision import transforms, datasets\n",
        "from torch.utils.data import DataLoader\n",
        "import torch.optim as optim\n"
      ],
      "id": "tamil-place",
      "execution_count": null,
      "outputs": []
    },
    {
      "cell_type": "code",
      "metadata": {
        "colab": {
          "base_uri": "https://localhost:8080/"
        },
        "id": "dress-spyware",
        "outputId": "fa4f43af-f00d-4276-d36a-ae6180645989"
      },
      "source": [
        "if torch.cuda.is_available():\n",
        "    device = torch.device('cuda')\n",
        "else :\n",
        "    device = torch.device('cpu')\n",
        "\n",
        "print('Using PyTorch version:', torch.__version__, ' Device:', device)"
      ],
      "id": "dress-spyware",
      "execution_count": null,
      "outputs": [
        {
          "output_type": "stream",
          "text": [
            "Using PyTorch version: 1.9.0+cu102  Device: cuda\n"
          ],
          "name": "stdout"
        }
      ]
    },
    {
      "cell_type": "code",
      "metadata": {
        "id": "quick-forum"
      },
      "source": [
        "BATCH_SIZE = 128\n",
        "EPOCHS = 90"
      ],
      "id": "quick-forum",
      "execution_count": null,
      "outputs": []
    },
    {
      "cell_type": "markdown",
      "metadata": {
        "id": "cordless-lending"
      },
      "source": [
        "## Dataset Loading (CalTech101)"
      ],
      "id": "cordless-lending"
    },
    {
      "cell_type": "code",
      "metadata": {
        "colab": {
          "base_uri": "https://localhost:8080/"
        },
        "id": "weekly-roller",
        "outputId": "9d89f0f3-bde6-4ec0-aa6c-047ecb6f776b"
      },
      "source": [
        "# loading training dataset\n",
        "from torchvision import datasets\n",
        "import torchvision.transforms as transforms\n",
        "import os\n",
        "\n",
        "# specify a data path\n",
        "path2data = '../data'\n",
        "\n",
        "# if not exists the path, make the path\n",
        "if not os.path.exists(path2data):\n",
        "    os.mkdir(path2data)\n",
        "\n",
        "# load STL10 train dataset, and check\n",
        "data_transformer = transforms.Compose([transforms.ToTensor()])\n",
        "train_dataset = datasets.STL10(path2data, split='train', download=True, transform=data_transformer)\n",
        "print(train_dataset.data.shape)"
      ],
      "id": "weekly-roller",
      "execution_count": null,
      "outputs": [
        {
          "output_type": "stream",
          "text": [
            "Files already downloaded and verified\n",
            "(5000, 3, 96, 96)\n"
          ],
          "name": "stdout"
        }
      ]
    },
    {
      "cell_type": "code",
      "metadata": {
        "colab": {
          "base_uri": "https://localhost:8080/"
        },
        "id": "olive-connection",
        "outputId": "56a82dcc-2aa4-499c-ef74-7e4f67cfe560"
      },
      "source": [
        "# load STL10 test dataset\n",
        "test_dataset = datasets.STL10(path2data, split='test', download=True, transform=data_transformer)\n",
        "print(test_dataset.data.shape)"
      ],
      "id": "olive-connection",
      "execution_count": null,
      "outputs": [
        {
          "output_type": "stream",
          "text": [
            "Files already downloaded and verified\n",
            "(8000, 3, 96, 96)\n"
          ],
          "name": "stdout"
        }
      ]
    },
    {
      "cell_type": "code",
      "metadata": {
        "colab": {
          "base_uri": "https://localhost:8080/"
        },
        "id": "forty-commercial",
        "outputId": "1e424646-c4c3-4e68-a485-90d4ffb64978"
      },
      "source": [
        "meanRGB = [np.mean(x.numpy(), axis=(1,2)) for x, _ in train_dataset]\n",
        "stdRGB = [np.std(x.numpy(), axis=(1,2)) for x, _ in train_dataset]\n",
        "\n",
        "meanR = np.mean([m[0] for m in meanRGB])\n",
        "meanG = np.mean([m[1] for m in meanRGB])\n",
        "meanB = np.mean([m[2] for m in meanRGB])\n",
        "\n",
        "stdR = np.mean([s[0] for s in stdRGB])\n",
        "stdG = np.mean([s[1] for s in stdRGB])\n",
        "stdB = np.mean([s[2] for s in stdRGB])\n",
        "\n",
        "print(meanR, meanG, meanB)\n",
        "print(stdR, stdG, stdB)"
      ],
      "id": "forty-commercial",
      "execution_count": null,
      "outputs": [
        {
          "output_type": "stream",
          "text": [
            "0.4467106 0.43980986 0.40664646\n",
            "0.22414584 0.22148906 0.22389975\n"
          ],
          "name": "stdout"
        }
      ]
    },
    {
      "cell_type": "code",
      "metadata": {
        "id": "settled-intensity"
      },
      "source": [
        "train_transformer = transforms.Compose([\n",
        "                transforms.ToTensor(),\n",
        "                transforms.Resize(227),\n",
        "                transforms.RandomHorizontalFlip(),\n",
        "                transforms.Normalize([meanR, meanG, meanB], [stdR, stdG, stdB]),\n",
        "])\n",
        "\n",
        "test_transformer = transforms.Compose([\n",
        "                transforms.ToTensor(),\n",
        "                transforms.Normalize([meanR, meanG, meanB], [stdR, stdG, stdB]),\n",
        "                transforms.Resize(227)\n",
        "])"
      ],
      "id": "settled-intensity",
      "execution_count": null,
      "outputs": []
    },
    {
      "cell_type": "code",
      "metadata": {
        "id": "exposed-listing"
      },
      "source": [
        "train_dataset.transform = train_transformer\n",
        "test_dataset.transform = test_transformer"
      ],
      "id": "exposed-listing",
      "execution_count": null,
      "outputs": []
    },
    {
      "cell_type": "code",
      "metadata": {
        "colab": {
          "base_uri": "https://localhost:8080/",
          "height": 648
        },
        "id": "chubby-complex",
        "outputId": "1a1d419f-7439-450f-a289-559347f37c05"
      },
      "source": [
        "def show(img, y=None, color=True):\n",
        "\n",
        "    npimg = img.numpy()\n",
        "    npimg_tr = np.transpose(npimg, (1, 2, 0))\n",
        "    plt.imshow(npimg_tr)\n",
        "    \n",
        "    # plt.imshow(npimg_tr)\n",
        "    if y is not None:\n",
        "        plt.title('labels: ' + str(y))\n",
        "\n",
        "# pick a random sample image \n",
        "rnd_inds = int(np.random.randint(0, len(train_dataset), 1))\n",
        "print(rnd_inds)\n",
        "img, label = train_dataset[rnd_inds]\n",
        "print('images indices: ', rnd_inds)\n",
        "\n",
        "plt.figure(figsize=(10, 10))\n",
        "show(img)"
      ],
      "id": "chubby-complex",
      "execution_count": null,
      "outputs": [
        {
          "output_type": "stream",
          "text": [
            "Clipping input data to the valid range for imshow with RGB data ([0..1] for floats or [0..255] for integers).\n"
          ],
          "name": "stderr"
        },
        {
          "output_type": "stream",
          "text": [
            "4053\n",
            "images indices:  4053\n"
          ],
          "name": "stdout"
        },
        {
          "output_type": "display_data",
          "data": {
            "image/png": "[encoded data removed]",
            "text/plain": [
              "<Figure size 720x720 with 1 Axes>"
            ]
          },
          "metadata": {
            "tags": [],
            "needs_background": "light"
          }
        }
      ]
    },
    {
      "cell_type": "code",
      "metadata": {
        "colab": {
          "base_uri": "https://localhost:8080/"
        },
        "id": "minus-efficiency",
        "outputId": "eb1e36e5-303b-4eca-9dbf-561a762a45a0"
      },
      "source": [
        "import collections\n",
        "y_train = [y for _, y in train_dataset]\n",
        "counter_train = collections.Counter(y_train)\n",
        "print(counter_train)"
      ],
      "id": "minus-efficiency",
      "execution_count": null,
      "outputs": [
        {
          "output_type": "stream",
          "text": [
            "Counter({1: 500, 5: 500, 6: 500, 3: 500, 9: 500, 7: 500, 4: 500, 8: 500, 0: 500, 2: 500})\n"
          ],
          "name": "stdout"
        }
      ]
    },
    {
      "cell_type": "code",
      "metadata": {
        "colab": {
          "base_uri": "https://localhost:8080/"
        },
        "id": "KiRF11hkaNIs",
        "outputId": "d8669036-b9c8-4385-9935-641817a9e4f5"
      },
      "source": [
        "from sklearn.model_selection import StratifiedShuffleSplit\n",
        "\n",
        "# StratifiedShuffleSplit splits indices of test0 in same proportion of labels\n",
        "sss = StratifiedShuffleSplit(n_splits=1, test_size=0.2, random_state=0)\n",
        "\n",
        "indices = list(range(len(test_dataset)))\n",
        "y_test0 = [y for _,y in test_dataset]\n",
        "\n",
        "for test_index, val_index in sss.split(indices, y_test0):\n",
        "    print('test :', len(test_index) , 'val :', len(val_index))"
      ],
      "id": "KiRF11hkaNIs",
      "execution_count": null,
      "outputs": [
        {
          "output_type": "stream",
          "text": [
            "test : 6400 val : 1600\n"
          ],
          "name": "stdout"
        }
      ]
    },
    {
      "cell_type": "code",
      "metadata": {
        "id": "km2TCEKtaagE"
      },
      "source": [
        "from torch.utils.data import Subset\n",
        "\n",
        "val_ds = Subset(test_dataset, val_index)\n",
        "test_ds = Subset(test_dataset, test_index)"
      ],
      "id": "km2TCEKtaagE",
      "execution_count": null,
      "outputs": []
    },
    {
      "cell_type": "code",
      "metadata": {
        "colab": {
          "base_uri": "https://localhost:8080/"
        },
        "id": "ws2bDNtqadAO",
        "outputId": "44e5d76c-0b8b-43c4-f829-f530297c4db2"
      },
      "source": [
        "import collections\n",
        "import numpy as np\n",
        "\n",
        "y_test = [y for _, y in train_dataset]\n",
        "y_val = [y for _, y in test_dataset]\n",
        "\n",
        "counter_test = collections.Counter(y_test)\n",
        "counter_val = collections.Counter(y_val)\n",
        "print(counter_test)\n",
        "print(counter_val)"
      ],
      "id": "ws2bDNtqadAO",
      "execution_count": null,
      "outputs": [
        {
          "output_type": "stream",
          "text": [
            "Counter({1: 500, 5: 500, 6: 500, 3: 500, 9: 500, 7: 500, 4: 500, 8: 500, 0: 500, 2: 500})\n",
            "Counter({6: 800, 7: 800, 5: 800, 0: 800, 3: 800, 1: 800, 4: 800, 9: 800, 2: 800, 8: 800})\n"
          ],
          "name": "stdout"
        }
      ]
    },
    {
      "cell_type": "code",
      "metadata": {
        "colab": {
          "base_uri": "https://localhost:8080/"
        },
        "id": "95rWC3NJa2k8",
        "outputId": "439fb6e3-e2fe-4664-8a57-bf1f8bec9232"
      },
      "source": [
        "from torch.utils.data import DataLoader\n",
        "\n",
        "train_loader = DataLoader(train_dataset, batch_size=BATCH_SIZE, shuffle=True)\n",
        "test_loader = DataLoader(test_dataset, batch_size=BATCH_SIZE, shuffle=False)\n",
        "\n",
        "# check dataloader\n",
        "for x,y in train_dl:\n",
        "    print(x.shape)\n",
        "    print(y.shape)\n",
        "    break\n",
        "\n",
        "for x,y in val_dl:\n",
        "    print(x.shape)\n",
        "    print(y.shape)\n",
        "    break"
      ],
      "id": "95rWC3NJa2k8",
      "execution_count": null,
      "outputs": [
        {
          "output_type": "stream",
          "text": [
            "torch.Size([128, 3, 227, 227])\n",
            "torch.Size([128])\n",
            "torch.Size([128, 3, 227, 227])\n",
            "torch.Size([128])\n"
          ],
          "name": "stdout"
        }
      ]
    },
    {
      "cell_type": "markdown",
      "metadata": {
        "id": "treated-phoenix"
      },
      "source": [
        "## Model Parameter Calculate"
      ],
      "id": "treated-phoenix"
    },
    {
      "cell_type": "code",
      "metadata": {
        "id": "wireless-comparative"
      },
      "source": [
        "def conv_output_size(input_size, kernel_size, padding_size, stride):\n",
        "    output = (input_size - kernel_size + 2 * padding_size) / stride + 1\n",
        "    return output\n",
        "\n",
        "def maxpool_output_size(input_size, pooling_size, stride):\n",
        "    output = (input_size - pooling_size) / stride + 1\n",
        "    return output"
      ],
      "id": "wireless-comparative",
      "execution_count": null,
      "outputs": []
    },
    {
      "cell_type": "code",
      "metadata": {
        "colab": {
          "base_uri": "https://localhost:8080/"
        },
        "id": "crazy-closing",
        "outputId": "9d2b069a-8f4b-4964-94ed-0bd382b7e02c"
      },
      "source": [
        "# 1st conv output size\n",
        "maxpool_output_size(conv_output_size(227, 11, 0, 4),3,2)"
      ],
      "id": "crazy-closing",
      "execution_count": null,
      "outputs": [
        {
          "output_type": "execute_result",
          "data": {
            "text/plain": [
              "27.0"
            ]
          },
          "metadata": {
            "tags": []
          },
          "execution_count": 55
        }
      ]
    },
    {
      "cell_type": "code",
      "metadata": {
        "colab": {
          "base_uri": "https://localhost:8080/"
        },
        "id": "corresponding-graph",
        "outputId": "984d7dad-f87d-4da7-db95-e14bbfacb0a6"
      },
      "source": [
        "# 2nd conv+maxpooing output size\n",
        "maxpool_output_size(conv_output_size(27,3,1,1),3,2)"
      ],
      "id": "corresponding-graph",
      "execution_count": null,
      "outputs": [
        {
          "output_type": "execute_result",
          "data": {
            "text/plain": [
              "13.0"
            ]
          },
          "metadata": {
            "tags": []
          },
          "execution_count": 56
        }
      ]
    },
    {
      "cell_type": "code",
      "metadata": {
        "colab": {
          "base_uri": "https://localhost:8080/"
        },
        "id": "sixth-married",
        "outputId": "7f7193e6-1783-474c-ca75-9fb89a8609b9"
      },
      "source": [
        "# 3rd conv output size\n",
        "conv_output_size(13,3,1,1)"
      ],
      "id": "sixth-married",
      "execution_count": null,
      "outputs": [
        {
          "output_type": "execute_result",
          "data": {
            "text/plain": [
              "13.0"
            ]
          },
          "metadata": {
            "tags": []
          },
          "execution_count": 57
        }
      ]
    },
    {
      "cell_type": "code",
      "metadata": {
        "colab": {
          "base_uri": "https://localhost:8080/"
        },
        "id": "formal-notice",
        "outputId": "5e138d88-212f-484b-c4b7-d7f57dea23e7"
      },
      "source": [
        "# 4th conv output size\n",
        "conv_output_size(13,3,1,1)"
      ],
      "id": "formal-notice",
      "execution_count": null,
      "outputs": [
        {
          "output_type": "execute_result",
          "data": {
            "text/plain": [
              "13.0"
            ]
          },
          "metadata": {
            "tags": []
          },
          "execution_count": 58
        }
      ]
    },
    {
      "cell_type": "code",
      "metadata": {
        "colab": {
          "base_uri": "https://localhost:8080/"
        },
        "id": "divided-perspective",
        "outputId": "eaf11f48-044b-4c0f-d1ce-13329fb9957c"
      },
      "source": [
        "# 5th conv+maxpooing output size\n",
        "maxpool_output_size(conv_output_size(13,3,1,1),3,2)"
      ],
      "id": "divided-perspective",
      "execution_count": null,
      "outputs": [
        {
          "output_type": "execute_result",
          "data": {
            "text/plain": [
              "6.0"
            ]
          },
          "metadata": {
            "tags": []
          },
          "execution_count": 59
        }
      ]
    },
    {
      "cell_type": "markdown",
      "metadata": {
        "id": "a5a16527"
      },
      "source": [
        "## Modeling Network"
      ],
      "id": "a5a16527"
    },
    {
      "cell_type": "code",
      "metadata": {
        "id": "searching-constraint"
      },
      "source": [
        "class AlexNet(nn.Module):\n",
        "    def __init__(self, num_classes=10):\n",
        "        super().__init__()\n",
        "        \n",
        "        self.convLayer = nn.Sequential(\n",
        "            # --- 1st Convolutional layer ---\n",
        "            nn.Conv2d(in_channels = 3, \n",
        "                      out_channels = 96,\n",
        "                      kernel_size = 11,\n",
        "                      stride = 4),\n",
        "            nn.ReLU(),\n",
        "            nn.LocalResponseNorm(size = 5,\n",
        "                                alpha = 0.0001,\n",
        "                                beta = 0.75,\n",
        "                                k = 2),\n",
        "            nn.MaxPool2d(kernel_size = 3, stride = 2),\n",
        "            \n",
        "            # --- 2nd Convolutional layer ---\n",
        "            nn.Conv2d(in_channels = 96,\n",
        "                      out_channels = 256,\n",
        "                      kernel_size = 5,\n",
        "                      stride = 1,\n",
        "                      padding = 1),\n",
        "            nn.ReLU(),\n",
        "            nn.LocalResponseNorm(size = 5,\n",
        "                    alpha = 0.0001,\n",
        "                    beta = 0.75,\n",
        "                    k = 2),\n",
        "            nn.MaxPool2d(kernel_size = 3, stride = 2),\n",
        "            \n",
        "            # --- 3rd Convolutional layer ---\n",
        "            nn.Conv2d(in_channels = 256,\n",
        "                     out_channels = 384,\n",
        "                     kernel_size = 3,\n",
        "                     stride = 1,\n",
        "                     padding = 1),\n",
        "            nn.ReLU(),\n",
        "            \n",
        "            # --- 4th Convolutional layer ---\n",
        "            nn.Conv2d(in_channels = 384,\n",
        "                     out_channels = 384,\n",
        "                     kernel_size = 3,\n",
        "                     stride = 1,\n",
        "                     padding = 1),\n",
        "            nn.ReLU(),\n",
        "            \n",
        "            # --- 5th Convolutional layer ---\n",
        "            nn.Conv2d(in_channels = 384,\n",
        "                     out_channels = 256,\n",
        "                     kernel_size = 3,\n",
        "                      stride = 1,\n",
        "                      padding = 1),\n",
        "            nn.ReLU(),\n",
        "            nn.MaxPool2d(kernel_size = 3, stride = 2),\n",
        "        )\n",
        "        \n",
        "        self.avgpool = nn.AdaptiveAvgPool2d((6,6))\n",
        "        \n",
        "        self.fcLayer = nn.Sequential(\n",
        "            # --- 1st Fully Connected layer ---\n",
        "            nn.Dropout(p = 0.5),\n",
        "            nn.Linear(256*6*6, 4096), # channel * size, output_channel\n",
        "            nn.ReLU(),\n",
        "            \n",
        "            # --- 2nd Fully Connected layer ---\n",
        "            nn.Dropout(p = 0.5),\n",
        "            nn.Linear(4096, 4096),\n",
        "            nn.ReLU(),\n",
        "\n",
        "            # --- Classification layer ---\n",
        "            nn.Linear(in_features=4096, \n",
        "                      out_features=num_classes),\n",
        "        )\n",
        "        \n",
        "    def init_bias_weights(self):\n",
        "        for layer in self.convLayer:\n",
        "            if isinstance(layer, nn.Conv2d):\n",
        "                nn.init.normal_(layer.weight, mean=0, std=0.01)   # weight 초기화\n",
        "                nn.init.constant_(layer.bias, 0)   # bias 초기화\n",
        "\n",
        "            # conv 2, 4, 5는 bias 1로 초기화 \n",
        "            nn.init.constant_(self.convLayer[4].bias, 1)\n",
        "            nn.init.constant_(self.convLayer[10].bias, 1)\n",
        "            nn.init.constant_(self.convLayer[12].bias, 1)\n",
        "        \n",
        "    def forward(self, x):\n",
        "        x = self.convLayer(x)\n",
        "        x = self.avgpool(x)\n",
        "        x = torch.flatten(x, 1)\n",
        "        x = self.fcLayer(x)\n",
        "        \n",
        "        return x"
      ],
      "id": "searching-constraint",
      "execution_count": null,
      "outputs": []
    },
    {
      "cell_type": "code",
      "metadata": {
        "id": "statewide-gates"
      },
      "source": [
        "model = AlexNet().to(device)"
      ],
      "id": "statewide-gates",
      "execution_count": null,
      "outputs": []
    },
    {
      "cell_type": "code",
      "metadata": {
        "colab": {
          "base_uri": "https://localhost:8080/"
        },
        "id": "grand-consortium",
        "outputId": "ddf291a2-6590-4896-d5bd-62731a5d867d"
      },
      "source": [
        "print(model)"
      ],
      "id": "grand-consortium",
      "execution_count": null,
      "outputs": [
        {
          "output_type": "stream",
          "text": [
            "AlexNet(\n",
            "  (convLayer): Sequential(\n",
            "    (0): Conv2d(3, 96, kernel_size=(11, 11), stride=(4, 4))\n",
            "    (1): ReLU()\n",
            "    (2): LocalResponseNorm(5, alpha=0.0001, beta=0.75, k=2)\n",
            "    (3): MaxPool2d(kernel_size=3, stride=2, padding=0, dilation=1, ceil_mode=False)\n",
            "    (4): Conv2d(96, 256, kernel_size=(5, 5), stride=(1, 1), padding=(1, 1))\n",
            "    (5): ReLU()\n",
            "    (6): LocalResponseNorm(5, alpha=0.0001, beta=0.75, k=2)\n",
            "    (7): MaxPool2d(kernel_size=3, stride=2, padding=0, dilation=1, ceil_mode=False)\n",
            "    (8): Conv2d(256, 384, kernel_size=(3, 3), stride=(1, 1), padding=(1, 1))\n",
            "    (9): ReLU()\n",
            "    (10): Conv2d(384, 384, kernel_size=(3, 3), stride=(1, 1), padding=(1, 1))\n",
            "    (11): ReLU()\n",
            "    (12): Conv2d(384, 256, kernel_size=(3, 3), stride=(1, 1), padding=(1, 1))\n",
            "    (13): ReLU()\n",
            "    (14): MaxPool2d(kernel_size=3, stride=2, padding=0, dilation=1, ceil_mode=False)\n",
            "  )\n",
            "  (avgpool): AdaptiveAvgPool2d(output_size=(6, 6))\n",
            "  (fcLayer): Sequential(\n",
            "    (0): Dropout(p=0.5, inplace=False)\n",
            "    (1): Linear(in_features=9216, out_features=4096, bias=True)\n",
            "    (2): ReLU()\n",
            "    (3): Dropout(p=0.5, inplace=False)\n",
            "    (4): Linear(in_features=4096, out_features=4096, bias=True)\n",
            "    (5): ReLU()\n",
            "    (6): Linear(in_features=4096, out_features=10, bias=True)\n",
            "  )\n",
            ")\n"
          ],
          "name": "stdout"
        }
      ]
    },
    {
      "cell_type": "code",
      "metadata": {
        "colab": {
          "base_uri": "https://localhost:8080/"
        },
        "id": "nearby-helmet",
        "outputId": "7b0be371-2360-492b-80a3-55fbb4cc80e8"
      },
      "source": [
        "from torchsummary import summary\n",
        "summary(model, input_size=(3, 227, 227), device=device.type)"
      ],
      "id": "nearby-helmet",
      "execution_count": null,
      "outputs": [
        {
          "output_type": "stream",
          "text": [
            "----------------------------------------------------------------\n",
            "        Layer (type)               Output Shape         Param #\n",
            "================================================================\n",
            "            Conv2d-1           [-1, 96, 55, 55]          34,944\n",
            "              ReLU-2           [-1, 96, 55, 55]               0\n",
            " LocalResponseNorm-3           [-1, 96, 55, 55]               0\n",
            "         MaxPool2d-4           [-1, 96, 27, 27]               0\n",
            "            Conv2d-5          [-1, 256, 25, 25]         614,656\n",
            "              ReLU-6          [-1, 256, 25, 25]               0\n",
            " LocalResponseNorm-7          [-1, 256, 25, 25]               0\n",
            "         MaxPool2d-8          [-1, 256, 12, 12]               0\n",
            "            Conv2d-9          [-1, 384, 12, 12]         885,120\n",
            "             ReLU-10          [-1, 384, 12, 12]               0\n",
            "           Conv2d-11          [-1, 384, 12, 12]       1,327,488\n",
            "             ReLU-12          [-1, 384, 12, 12]               0\n",
            "           Conv2d-13          [-1, 256, 12, 12]         884,992\n",
            "             ReLU-14          [-1, 256, 12, 12]               0\n",
            "        MaxPool2d-15            [-1, 256, 5, 5]               0\n",
            "AdaptiveAvgPool2d-16            [-1, 256, 6, 6]               0\n",
            "          Dropout-17                 [-1, 9216]               0\n",
            "           Linear-18                 [-1, 4096]      37,752,832\n",
            "             ReLU-19                 [-1, 4096]               0\n",
            "          Dropout-20                 [-1, 4096]               0\n",
            "           Linear-21                 [-1, 4096]      16,781,312\n",
            "             ReLU-22                 [-1, 4096]               0\n",
            "           Linear-23                   [-1, 10]          40,970\n",
            "================================================================\n",
            "Total params: 58,322,314\n",
            "Trainable params: 58,322,314\n",
            "Non-trainable params: 0\n",
            "----------------------------------------------------------------\n",
            "Input size (MB): 0.59\n",
            "Forward/backward pass size (MB): 13.72\n",
            "Params size (MB): 222.48\n",
            "Estimated Total Size (MB): 236.79\n",
            "----------------------------------------------------------------\n"
          ],
          "name": "stdout"
        }
      ]
    },
    {
      "cell_type": "code",
      "metadata": {
        "colab": {
          "base_uri": "https://localhost:8080/"
        },
        "id": "municipal-canvas",
        "outputId": "74ccd112-ac02-458c-d059-137c8ddf908e"
      },
      "source": [
        "optimizer = optim.SGD(\n",
        "  params = model.parameters(),\n",
        "  lr = 0.01,\n",
        "  momentum = 0.9,\n",
        "  weight_decay = 0.005  # lr 점점 감소\n",
        ")\n",
        "\n",
        "lr_scheduler = optim.lr_scheduler.StepLR(optimizer, step_size=30, gamma=0.1)\n",
        "\n",
        "for epoch in range(90):\n",
        "    print('[epoch %d]' %epoch, end=' ')\n",
        "    lr_scheduler.step()\n",
        "    \n",
        "    running_loss = 0.0\n",
        "    correct = 0\n",
        "    \n",
        "    for imgs, classes in train_loader :\n",
        "        \n",
        "        imgs, classes = imgs.to(device), classes.to(device)\n",
        "        \n",
        "        optimizer.zero_grad()\n",
        "        output = model(imgs)\n",
        "        \n",
        "        loss = F.cross_entropy(output, classes)\n",
        "        loss.backward()\n",
        "        \n",
        "        optimizer.step()\n",
        "        \n",
        "        running_loss += loss.item()\n",
        "        pred = output.argmax(dim=1, keepdim=True)\n",
        "        correct += pred.eq(classes.view_as(pred)).sum().item()\n",
        "        \n",
        "    cost = running_loss / len(train_loader)\n",
        "    print('Train loss: %.3f | Train accuracy: %.2f%%' %(cost, 100.*correct/len(train_loader.dataset))) \n"
      ],
      "id": "municipal-canvas",
      "execution_count": null,
      "outputs": [
        {
          "output_type": "stream",
          "text": [
            "[epoch 0] "
          ],
          "name": "stdout"
        },
        {
          "output_type": "stream",
          "text": [
            "/usr/local/lib/python3.7/dist-packages/torch/optim/lr_scheduler.py:134: UserWarning: Detected call of `lr_scheduler.step()` before `optimizer.step()`. In PyTorch 1.1.0 and later, you should call them in the opposite order: `optimizer.step()` before `lr_scheduler.step()`.  Failure to do this will result in PyTorch skipping the first value of the learning rate schedule. See more details at https://pytorch.org/docs/stable/optim.html#how-to-adjust-learning-rate\n",
            "  \"https://pytorch.org/docs/stable/optim.html#how-to-adjust-learning-rate\", UserWarning)\n"
          ],
          "name": "stderr"
        },
        {
          "output_type": "stream",
          "text": [
            "Train loss: 2.303 | Train accuracy: 10.10%\n",
            "[epoch 1] Train loss: 2.302 | Train accuracy: 9.92%\n",
            "[epoch 2] Train loss: 2.302 | Train accuracy: 10.00%\n",
            "[epoch 3] Train loss: 2.302 | Train accuracy: 10.52%\n",
            "[epoch 4] Train loss: 2.301 | Train accuracy: 11.06%\n",
            "[epoch 5] Train loss: 2.297 | Train accuracy: 13.94%\n",
            "[epoch 6] "
          ],
          "name": "stdout"
        }
      ]
    },
    {
      "cell_type": "code",
      "metadata": {
        "id": "silver-nomination"
      },
      "source": [
        ""
      ],
      "id": "silver-nomination",
      "execution_count": null,
      "outputs": []
    },
    {
      "cell_type": "code",
      "metadata": {
        "id": "structural-enough"
      },
      "source": [
        ""
      ],
      "id": "structural-enough",
      "execution_count": null,
      "outputs": []
    },
    {
      "cell_type": "code",
      "metadata": {
        "id": "following-scene"
      },
      "source": [
        ""
      ],
      "id": "following-scene",
      "execution_count": null,
      "outputs": []
    }
  ]
}